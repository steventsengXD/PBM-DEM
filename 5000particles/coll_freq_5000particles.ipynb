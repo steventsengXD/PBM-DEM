{
 "cells": [
  {
   "cell_type": "code",
   "execution_count": 1,
   "metadata": {},
   "outputs": [],
   "source": [
    "import numpy as np\n",
    "import matplotlib.pyplot as plt\n",
    "import pandas as pd\n",
    "import math\n",
    "%matplotlib inline"
   ]
  },
  {
   "cell_type": "markdown",
   "metadata": {},
   "source": [
    "## Description of MercuryDPM output\n",
    "\n",
    "data output files are formatted with a first line with the following structure,\n",
    "\n",
    "N, time, xmin, ymin, zmin, xmax, ymax, zmax,\n",
    "\n",
    "then followed by a series of N subsequent lines, each providing information for one of the N particles within the system at the current point in time. For each particle, we are given information regarding its current position in three dimensions (x, y, z), the magnitudes of the three components of its instantaneous velocity (vx, vy, vz), the radius of the particle (rad), its angular position in three dimensions (qx, qy, qz) and the three components of its instantaneous angular velocity (omex, omey, omez).\n",
    "\n",
    "fstat output files have the following structure. For each time step, three lines are output, each preceded by a # symbol. The first element shows the current time step. \n",
    "\n",
    "The initial information is followed by a series of $N_c$ lines corresponding to each of the $N_c$ particle contacts (as opposed to particles) within the system at the current instant in time. \n",
    "\n",
    "Each of these lines is structured as follows:\n",
    "\n",
    "time, i, j, x, y, z, $\\Delta$, $\\Delta t$, fn, ft, nx, ny, nz, tx, ty, tz"
   ]
  },
  {
   "cell_type": "markdown",
   "metadata": {},
   "source": [
    "### Loading MercuryDPM output files"
   ]
  },
  {
   "cell_type": "code",
   "execution_count": 2,
   "metadata": {},
   "outputs": [],
   "source": [
    "fstat=\"VerticalMixer.fstat\"\n",
    "data=\"radii.txt\"\n",
    "collisions=np.loadtxt(fstat,delimiter=\" \")\n",
    "radii=np.loadtxt(data)"
   ]
  },
  {
   "cell_type": "code",
   "execution_count": 3,
   "metadata": {},
   "outputs": [
    {
     "name": "stdout",
     "output_type": "stream",
     "text": [
      "856377\n"
     ]
    }
   ],
   "source": [
    "N_particles=5000\n",
    "len_coll=len(collisions)\n",
    "#print(len_coll)"
   ]
  },
  {
   "cell_type": "markdown",
   "metadata": {},
   "source": [
    "### Data preprocessing \n",
    "\n",
    "#### Separating particle radii data by timestep"
   ]
  },
  {
   "cell_type": "code",
   "execution_count": 4,
   "metadata": {},
   "outputs": [],
   "source": [
    "class dictionary(dict): \n",
    "    # __init__ function \n",
    "    def __init__(self):\n",
    "        self=dict() \n",
    "    # Function to add key:value \n",
    "    def add(self, key, value): \n",
    "        self[key]=value "
   ]
  },
  {
   "cell_type": "code",
   "execution_count": 5,
   "metadata": {},
   "outputs": [
    {
     "name": "stdout",
     "output_type": "stream",
     "text": [
      "the number of time steps is:  31\n"
     ]
    }
   ],
   "source": [
    "t_final=2\n",
    "N=math.ceil(t_final/0.06666)\n",
    "print('the number of time steps is: ',N)"
   ]
  },
  {
   "cell_type": "code",
   "execution_count": 26,
   "metadata": {},
   "outputs": [],
   "source": [
    "Rdict=dictionary()\n",
    "Rdict_actual=dictionary()\n",
    "for i in range(0,N):\n",
    "    beg=1+(N_particles+1)*i\n",
    "    end=(N_particles+1)+(N_particles+1)*i\n",
    "    rounded=(np.round(radii[beg:end]*10000*2).astype(int)-20)#/2\n",
    "    Rdict.add(i+1,rounded)\n",
    "    Rdict_actual.add(i+1,radii[beg:end])\n",
    "radii_df=pd.DataFrame(Rdict)\n",
    "radii_act_df=pd.DataFrame(Rdict_actual)"
   ]
  },
  {
   "cell_type": "code",
   "execution_count": 27,
   "metadata": {},
   "outputs": [
    {
     "data": {
      "text/html": [
       "<div>\n",
       "<style scoped>\n",
       "    .dataframe tbody tr th:only-of-type {\n",
       "        vertical-align: middle;\n",
       "    }\n",
       "\n",
       "    .dataframe tbody tr th {\n",
       "        vertical-align: top;\n",
       "    }\n",
       "\n",
       "    .dataframe thead th {\n",
       "        text-align: right;\n",
       "    }\n",
       "</style>\n",
       "<table border=\"1\" class=\"dataframe\">\n",
       "  <thead>\n",
       "    <tr style=\"text-align: right;\">\n",
       "      <th></th>\n",
       "      <th>1</th>\n",
       "      <th>2</th>\n",
       "      <th>3</th>\n",
       "      <th>4</th>\n",
       "      <th>5</th>\n",
       "      <th>6</th>\n",
       "      <th>7</th>\n",
       "      <th>8</th>\n",
       "      <th>9</th>\n",
       "      <th>10</th>\n",
       "      <th>...</th>\n",
       "      <th>22</th>\n",
       "      <th>23</th>\n",
       "      <th>24</th>\n",
       "      <th>25</th>\n",
       "      <th>26</th>\n",
       "      <th>27</th>\n",
       "      <th>28</th>\n",
       "      <th>29</th>\n",
       "      <th>30</th>\n",
       "      <th>31</th>\n",
       "    </tr>\n",
       "  </thead>\n",
       "  <tbody>\n",
       "    <tr>\n",
       "      <th>0</th>\n",
       "      <td>8</td>\n",
       "      <td>8</td>\n",
       "      <td>8</td>\n",
       "      <td>8</td>\n",
       "      <td>8</td>\n",
       "      <td>8</td>\n",
       "      <td>8</td>\n",
       "      <td>8</td>\n",
       "      <td>8</td>\n",
       "      <td>8</td>\n",
       "      <td>...</td>\n",
       "      <td>8</td>\n",
       "      <td>8</td>\n",
       "      <td>8</td>\n",
       "      <td>8</td>\n",
       "      <td>8</td>\n",
       "      <td>8</td>\n",
       "      <td>8</td>\n",
       "      <td>8</td>\n",
       "      <td>8</td>\n",
       "      <td>8</td>\n",
       "    </tr>\n",
       "    <tr>\n",
       "      <th>1</th>\n",
       "      <td>8</td>\n",
       "      <td>8</td>\n",
       "      <td>8</td>\n",
       "      <td>8</td>\n",
       "      <td>8</td>\n",
       "      <td>8</td>\n",
       "      <td>8</td>\n",
       "      <td>8</td>\n",
       "      <td>8</td>\n",
       "      <td>8</td>\n",
       "      <td>...</td>\n",
       "      <td>8</td>\n",
       "      <td>8</td>\n",
       "      <td>8</td>\n",
       "      <td>8</td>\n",
       "      <td>8</td>\n",
       "      <td>8</td>\n",
       "      <td>8</td>\n",
       "      <td>8</td>\n",
       "      <td>8</td>\n",
       "      <td>8</td>\n",
       "    </tr>\n",
       "    <tr>\n",
       "      <th>2</th>\n",
       "      <td>10</td>\n",
       "      <td>10</td>\n",
       "      <td>10</td>\n",
       "      <td>10</td>\n",
       "      <td>10</td>\n",
       "      <td>10</td>\n",
       "      <td>10</td>\n",
       "      <td>10</td>\n",
       "      <td>10</td>\n",
       "      <td>10</td>\n",
       "      <td>...</td>\n",
       "      <td>10</td>\n",
       "      <td>10</td>\n",
       "      <td>10</td>\n",
       "      <td>10</td>\n",
       "      <td>10</td>\n",
       "      <td>10</td>\n",
       "      <td>10</td>\n",
       "      <td>10</td>\n",
       "      <td>10</td>\n",
       "      <td>10</td>\n",
       "    </tr>\n",
       "    <tr>\n",
       "      <th>3</th>\n",
       "      <td>3</td>\n",
       "      <td>3</td>\n",
       "      <td>3</td>\n",
       "      <td>3</td>\n",
       "      <td>3</td>\n",
       "      <td>3</td>\n",
       "      <td>3</td>\n",
       "      <td>3</td>\n",
       "      <td>3</td>\n",
       "      <td>3</td>\n",
       "      <td>...</td>\n",
       "      <td>3</td>\n",
       "      <td>3</td>\n",
       "      <td>3</td>\n",
       "      <td>3</td>\n",
       "      <td>3</td>\n",
       "      <td>3</td>\n",
       "      <td>3</td>\n",
       "      <td>3</td>\n",
       "      <td>3</td>\n",
       "      <td>3</td>\n",
       "    </tr>\n",
       "    <tr>\n",
       "      <th>4</th>\n",
       "      <td>7</td>\n",
       "      <td>7</td>\n",
       "      <td>7</td>\n",
       "      <td>7</td>\n",
       "      <td>7</td>\n",
       "      <td>7</td>\n",
       "      <td>7</td>\n",
       "      <td>7</td>\n",
       "      <td>7</td>\n",
       "      <td>7</td>\n",
       "      <td>...</td>\n",
       "      <td>7</td>\n",
       "      <td>7</td>\n",
       "      <td>7</td>\n",
       "      <td>7</td>\n",
       "      <td>7</td>\n",
       "      <td>7</td>\n",
       "      <td>7</td>\n",
       "      <td>7</td>\n",
       "      <td>7</td>\n",
       "      <td>7</td>\n",
       "    </tr>\n",
       "  </tbody>\n",
       "</table>\n",
       "<p>5 rows × 31 columns</p>\n",
       "</div>"
      ],
      "text/plain": [
       "   1   2   3   4   5   6   7   8   9   10 ...  22  23  24  25  26  27  28  29  \\\n",
       "0   8   8   8   8   8   8   8   8   8   8 ...   8   8   8   8   8   8   8   8   \n",
       "1   8   8   8   8   8   8   8   8   8   8 ...   8   8   8   8   8   8   8   8   \n",
       "2  10  10  10  10  10  10  10  10  10  10 ...  10  10  10  10  10  10  10  10   \n",
       "3   3   3   3   3   3   3   3   3   3   3 ...   3   3   3   3   3   3   3   3   \n",
       "4   7   7   7   7   7   7   7   7   7   7 ...   7   7   7   7   7   7   7   7   \n",
       "\n",
       "   30  31  \n",
       "0   8   8  \n",
       "1   8   8  \n",
       "2  10  10  \n",
       "3   3   3  \n",
       "4   7   7  \n",
       "\n",
       "[5 rows x 31 columns]"
      ]
     },
     "execution_count": 27,
     "metadata": {},
     "output_type": "execute_result"
    }
   ],
   "source": [
    "radii_df.head()"
   ]
  },
  {
   "cell_type": "code",
   "execution_count": 28,
   "metadata": {},
   "outputs": [
    {
     "data": {
      "text/html": [
       "<div>\n",
       "<style scoped>\n",
       "    .dataframe tbody tr th:only-of-type {\n",
       "        vertical-align: middle;\n",
       "    }\n",
       "\n",
       "    .dataframe tbody tr th {\n",
       "        vertical-align: top;\n",
       "    }\n",
       "\n",
       "    .dataframe thead th {\n",
       "        text-align: right;\n",
       "    }\n",
       "</style>\n",
       "<table border=\"1\" class=\"dataframe\">\n",
       "  <thead>\n",
       "    <tr style=\"text-align: right;\">\n",
       "      <th></th>\n",
       "      <th>1</th>\n",
       "      <th>2</th>\n",
       "      <th>3</th>\n",
       "      <th>4</th>\n",
       "      <th>5</th>\n",
       "      <th>6</th>\n",
       "      <th>7</th>\n",
       "      <th>8</th>\n",
       "      <th>9</th>\n",
       "      <th>10</th>\n",
       "      <th>...</th>\n",
       "      <th>22</th>\n",
       "      <th>23</th>\n",
       "      <th>24</th>\n",
       "      <th>25</th>\n",
       "      <th>26</th>\n",
       "      <th>27</th>\n",
       "      <th>28</th>\n",
       "      <th>29</th>\n",
       "      <th>30</th>\n",
       "      <th>31</th>\n",
       "    </tr>\n",
       "  </thead>\n",
       "  <tbody>\n",
       "    <tr>\n",
       "      <th>0</th>\n",
       "      <td>0.001394</td>\n",
       "      <td>0.001394</td>\n",
       "      <td>0.001394</td>\n",
       "      <td>0.001394</td>\n",
       "      <td>0.001394</td>\n",
       "      <td>0.001394</td>\n",
       "      <td>0.001394</td>\n",
       "      <td>0.001394</td>\n",
       "      <td>0.001394</td>\n",
       "      <td>0.001394</td>\n",
       "      <td>...</td>\n",
       "      <td>0.001394</td>\n",
       "      <td>0.001394</td>\n",
       "      <td>0.001394</td>\n",
       "      <td>0.001394</td>\n",
       "      <td>0.001394</td>\n",
       "      <td>0.001394</td>\n",
       "      <td>0.001394</td>\n",
       "      <td>0.001394</td>\n",
       "      <td>0.001394</td>\n",
       "      <td>0.001394</td>\n",
       "    </tr>\n",
       "    <tr>\n",
       "      <th>1</th>\n",
       "      <td>0.001417</td>\n",
       "      <td>0.001417</td>\n",
       "      <td>0.001417</td>\n",
       "      <td>0.001417</td>\n",
       "      <td>0.001417</td>\n",
       "      <td>0.001417</td>\n",
       "      <td>0.001417</td>\n",
       "      <td>0.001417</td>\n",
       "      <td>0.001417</td>\n",
       "      <td>0.001417</td>\n",
       "      <td>...</td>\n",
       "      <td>0.001417</td>\n",
       "      <td>0.001417</td>\n",
       "      <td>0.001417</td>\n",
       "      <td>0.001417</td>\n",
       "      <td>0.001417</td>\n",
       "      <td>0.001417</td>\n",
       "      <td>0.001417</td>\n",
       "      <td>0.001417</td>\n",
       "      <td>0.001417</td>\n",
       "      <td>0.001417</td>\n",
       "    </tr>\n",
       "    <tr>\n",
       "      <th>2</th>\n",
       "      <td>0.001500</td>\n",
       "      <td>0.001500</td>\n",
       "      <td>0.001500</td>\n",
       "      <td>0.001500</td>\n",
       "      <td>0.001500</td>\n",
       "      <td>0.001500</td>\n",
       "      <td>0.001500</td>\n",
       "      <td>0.001500</td>\n",
       "      <td>0.001500</td>\n",
       "      <td>0.001500</td>\n",
       "      <td>...</td>\n",
       "      <td>0.001500</td>\n",
       "      <td>0.001500</td>\n",
       "      <td>0.001500</td>\n",
       "      <td>0.001500</td>\n",
       "      <td>0.001500</td>\n",
       "      <td>0.001500</td>\n",
       "      <td>0.001500</td>\n",
       "      <td>0.001500</td>\n",
       "      <td>0.001500</td>\n",
       "      <td>0.001500</td>\n",
       "    </tr>\n",
       "    <tr>\n",
       "      <th>3</th>\n",
       "      <td>0.001150</td>\n",
       "      <td>0.001150</td>\n",
       "      <td>0.001150</td>\n",
       "      <td>0.001150</td>\n",
       "      <td>0.001150</td>\n",
       "      <td>0.001150</td>\n",
       "      <td>0.001150</td>\n",
       "      <td>0.001150</td>\n",
       "      <td>0.001150</td>\n",
       "      <td>0.001150</td>\n",
       "      <td>...</td>\n",
       "      <td>0.001150</td>\n",
       "      <td>0.001150</td>\n",
       "      <td>0.001150</td>\n",
       "      <td>0.001150</td>\n",
       "      <td>0.001150</td>\n",
       "      <td>0.001150</td>\n",
       "      <td>0.001150</td>\n",
       "      <td>0.001150</td>\n",
       "      <td>0.001150</td>\n",
       "      <td>0.001150</td>\n",
       "    </tr>\n",
       "    <tr>\n",
       "      <th>4</th>\n",
       "      <td>0.001366</td>\n",
       "      <td>0.001366</td>\n",
       "      <td>0.001366</td>\n",
       "      <td>0.001366</td>\n",
       "      <td>0.001366</td>\n",
       "      <td>0.001366</td>\n",
       "      <td>0.001366</td>\n",
       "      <td>0.001366</td>\n",
       "      <td>0.001366</td>\n",
       "      <td>0.001366</td>\n",
       "      <td>...</td>\n",
       "      <td>0.001366</td>\n",
       "      <td>0.001366</td>\n",
       "      <td>0.001366</td>\n",
       "      <td>0.001366</td>\n",
       "      <td>0.001366</td>\n",
       "      <td>0.001366</td>\n",
       "      <td>0.001366</td>\n",
       "      <td>0.001366</td>\n",
       "      <td>0.001366</td>\n",
       "      <td>0.001366</td>\n",
       "    </tr>\n",
       "  </tbody>\n",
       "</table>\n",
       "<p>5 rows × 31 columns</p>\n",
       "</div>"
      ],
      "text/plain": [
       "         1         2         3         4         5         6         7   \\\n",
       "0  0.001394  0.001394  0.001394  0.001394  0.001394  0.001394  0.001394   \n",
       "1  0.001417  0.001417  0.001417  0.001417  0.001417  0.001417  0.001417   \n",
       "2  0.001500  0.001500  0.001500  0.001500  0.001500  0.001500  0.001500   \n",
       "3  0.001150  0.001150  0.001150  0.001150  0.001150  0.001150  0.001150   \n",
       "4  0.001366  0.001366  0.001366  0.001366  0.001366  0.001366  0.001366   \n",
       "\n",
       "         8         9         10    ...           22        23        24  \\\n",
       "0  0.001394  0.001394  0.001394    ...     0.001394  0.001394  0.001394   \n",
       "1  0.001417  0.001417  0.001417    ...     0.001417  0.001417  0.001417   \n",
       "2  0.001500  0.001500  0.001500    ...     0.001500  0.001500  0.001500   \n",
       "3  0.001150  0.001150  0.001150    ...     0.001150  0.001150  0.001150   \n",
       "4  0.001366  0.001366  0.001366    ...     0.001366  0.001366  0.001366   \n",
       "\n",
       "         25        26        27        28        29        30        31  \n",
       "0  0.001394  0.001394  0.001394  0.001394  0.001394  0.001394  0.001394  \n",
       "1  0.001417  0.001417  0.001417  0.001417  0.001417  0.001417  0.001417  \n",
       "2  0.001500  0.001500  0.001500  0.001500  0.001500  0.001500  0.001500  \n",
       "3  0.001150  0.001150  0.001150  0.001150  0.001150  0.001150  0.001150  \n",
       "4  0.001366  0.001366  0.001366  0.001366  0.001366  0.001366  0.001366  \n",
       "\n",
       "[5 rows x 31 columns]"
      ]
     },
     "execution_count": 28,
     "metadata": {},
     "output_type": "execute_result"
    }
   ],
   "source": [
    "radii_act_df.head()"
   ]
  },
  {
   "cell_type": "code",
   "execution_count": 30,
   "metadata": {},
   "outputs": [
    {
     "data": {
      "image/png": "[encoded data removed]",
      "text/plain": [
       "<Figure size 432x288 with 1 Axes>"
      ]
     },
     "metadata": {
      "needs_background": "light"
     },
     "output_type": "display_data"
    }
   ],
   "source": [
    "plt.hist(radii_act_df[1], normed=True, bins=30)\n",
    "plt.ylabel('Probability')\n",
    "plt.xlabel('Radius')\n",
    "plt.title('Distribution of Particle Radii');"
   ]
  },
  {
   "cell_type": "markdown",
   "metadata": {},
   "source": [
    "#### Finding the min and max radii "
   ]
  },
  {
   "cell_type": "code",
   "execution_count": 11,
   "metadata": {},
   "outputs": [
    {
     "name": "stdout",
     "output_type": "stream",
     "text": [
      "The min radius is:  0\n",
      "The max radius is:  19\n"
     ]
    }
   ],
   "source": [
    "minmax=[]\n",
    "for i in range(1,N+1):\n",
    "    minmax.append(min(radii_df[i]))\n",
    "    minmax.append(max(radii_df[i]))\n",
    "\n",
    "print('The min radius is: ',min(minmax))\n",
    "print('The max radius is: ',max(minmax))"
   ]
  },
  {
   "cell_type": "markdown",
   "metadata": {},
   "source": [
    "#### Separating collision data into lists by timestep"
   ]
  },
  {
   "cell_type": "code",
   "execution_count": 12,
   "metadata": {},
   "outputs": [],
   "source": [
    "i=0\n",
    "j=0\n",
    "coll_list=[]\n",
    "for i in range(0,N):\n",
    "    if j<len_coll:\n",
    "        time=collisions[j][0]\n",
    "        dt_coll=[]\n",
    "        while collisions[j][0]==time:\n",
    "            dt_coll.append(collisions[j])\n",
    "            j+=1\n",
    "            if j==7406:\n",
    "                break\n",
    "        coll_list.append(dt_coll)"
   ]
  },
  {
   "cell_type": "markdown",
   "metadata": {},
   "source": [
    "#### Keeping only particle-particle collision data "
   ]
  },
  {
   "cell_type": "code",
   "execution_count": 13,
   "metadata": {},
   "outputs": [],
   "source": [
    "particle_collisions=[]\n",
    "for i in range(0,N):\n",
    "    dt_coll=[]\n",
    "    for collision in coll_list[i]:\n",
    "        if collision[2] >= 0:\n",
    "            dt_coll.append(collision[1:3])\n",
    "    particle_collisions.append(dt_coll)    "
   ]
  },
  {
   "cell_type": "markdown",
   "metadata": {},
   "source": [
    "#### Replacing particle labels with radii"
   ]
  },
  {
   "cell_type": "code",
   "execution_count": 14,
   "metadata": {},
   "outputs": [
    {
     "name": "stdout",
     "output_type": "stream",
     "text": [
      "793256\n"
     ]
    }
   ],
   "source": [
    "Ltotal=0\n",
    "for i in range(0,N):\n",
    "    for collisions in particle_collisions[i]:\n",
    "        j=collisions[0]\n",
    "        k=collisions[1]\n",
    "        collisions[0]=radii_df[i+1][j]\n",
    "        collisions[1]=radii_df[i+1][k]\n",
    "    #print(len(particle_collisions[i])) # Making sure they're are all even\n",
    "    Ltotal+=len(particle_collisions[i])\n",
    "\n",
    "print(Ltotal)"
   ]
  },
  {
   "cell_type": "markdown",
   "metadata": {},
   "source": [
    "### Collision Frequency\n",
    "\n",
    "Collision frequency is determined by the equation (modified from Barrasso 2015):\n",
    "\n",
    "$$\n",
    "C(s,s',t)=\\frac{N_{coll}(s,s',t)}{F(s,t)F(s',t)\\Delta t},\n",
    "$$\n",
    "\n",
    "where $s$ represents the size of the particle (as measured by its radius), $F$ represents the number of particles or particle density as a function of particle size/class and time.\n",
    "\n",
    "#### Collecting collision frequency into a list of arrays ($N_{coll}(s,s',t)$ at each time step)"
   ]
  },
  {
   "cell_type": "code",
   "execution_count": 15,
   "metadata": {},
   "outputs": [],
   "source": [
    "N_Total=[]\n",
    "D=len(np.arange(0,20))\n",
    "\n",
    "\n",
    "for i in range(0,31):\n",
    "    N_dt=np.zeros([D,D])\n",
    "    for collisions in particle_collisions[i]:\n",
    "        p1=collisions[0].astype(int)\n",
    "        p2=collisions[1].astype(int)\n",
    "        N_dt[p1,p2]+=1\n",
    "    i,j=np.indices(N_dt.shape)\n",
    "    N_dt[i==j]=N_dt.diagonal()*0.5\n",
    "    N_Total.append(N_dt)"
   ]
  },
  {
   "cell_type": "markdown",
   "metadata": {},
   "source": [
    "#### Finding $F(s,t)$ at each time step"
   ]
  },
  {
   "cell_type": "code",
   "execution_count": 16,
   "metadata": {},
   "outputs": [],
   "source": [
    "F_Total=[]\n",
    "for i in range(0,31):\n",
    "    F_dt=np.zeros(20).astype(int)\n",
    "    for size in radii_df[i+1]:\n",
    "        F_dt[size]+=1\n",
    "    F_Total.append(F_dt)    "
   ]
  },
  {
   "cell_type": "code",
   "execution_count": 19,
   "metadata": {},
   "outputs": [
    {
     "name": "stdout",
     "output_type": "stream",
     "text": [
      "5000 5000\n"
     ]
    }
   ],
   "source": [
    "print(sum(F_Total[0]),sum(F_Total[30]))  # verifying that it is 5000"
   ]
  },
  {
   "cell_type": "markdown",
   "metadata": {},
   "source": [
    "#### Creating arrays for $C(s,s',t)$ from $N_{coll}(s,s',t)$ and $F(s,t)$"
   ]
  },
  {
   "cell_type": "code",
   "execution_count": 20,
   "metadata": {},
   "outputs": [],
   "source": [
    "C_Total=[]\n",
    "for i in range(0,31):\n",
    "    C_dt=np.zeros([D,D])\n",
    "    for size in range(0,20):\n",
    "        for sizep in range(0,20):\n",
    "            if i==30:\n",
    "                dt=0.000333333\n",
    "            else:\n",
    "                dt=0.06666666667\n",
    "            FFpdt=F_Total[i][size]*F_Total[i][sizep]*dt\n",
    "            C_dt[size,sizep]=N_Total[i][size,sizep]*(1/FFpdt)\n",
    "    C_Total.append(C_dt)"
   ]
  },
  {
   "cell_type": "code",
   "execution_count": null,
   "metadata": {},
   "outputs": [],
   "source": []
  },
  {
   "cell_type": "code",
   "execution_count": null,
   "metadata": {},
   "outputs": [],
   "source": []
  },
  {
   "cell_type": "code",
   "execution_count": null,
   "metadata": {},
   "outputs": [],
   "source": []
  },
  {
   "cell_type": "code",
   "execution_count": null,
   "metadata": {},
   "outputs": [],
   "source": []
  }
 ],
 "metadata": {
  "kernelspec": {
   "display_name": "Python 3",
   "language": "python",
   "name": "python3"
  },
  "language_info": {
   "codemirror_mode": {
    "name": "ipython",
    "version": 3
   },
   "file_extension": ".py",
   "mimetype": "text/x-python",
   "name": "python",
   "nbconvert_exporter": "python",
   "pygments_lexer": "ipython3",
   "version": "3.7.1"
  }
 },
 "nbformat": 4,
 "nbformat_minor": 2
}
